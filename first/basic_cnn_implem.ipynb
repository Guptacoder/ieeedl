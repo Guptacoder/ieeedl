{
 "cells": [
  {
   "cell_type": "markdown",
   "metadata": {},
   "source": [
    "<h4>WE WILL FIRST IMPORT ARE LIBRARIES</h4>\n",
    "<h4>PS:KERAS HAS BEEN USED ONLY FOR THE DATASET AND OTHER UTILITIES</h4>"
   ]
  },
  {
   "cell_type": "code",
   "execution_count": 1,
   "metadata": {},
   "outputs": [
    {
     "name": "stderr",
     "output_type": "stream",
     "text": [
      "Using TensorFlow backend.\n"
     ]
    }
   ],
   "source": [
    "import tensorflow as tf\n",
    "from keras.datasets import cifar10\n",
    "from keras.utils import to_categorical\n",
    "import numpy"
   ]
  },
  {
   "cell_type": "markdown",
   "metadata": {},
   "source": [
    "<h4>LOAD THE DATASET</h4>"
   ]
  },
  {
   "cell_type": "code",
   "execution_count": 2,
   "metadata": {},
   "outputs": [],
   "source": [
    "(x_tr,y_tr),(x_ts,y_ts)=cifar10.load_data()"
   ]
  },
  {
   "cell_type": "code",
   "execution_count": 12,
   "metadata": {},
   "outputs": [
    {
     "data": {
      "text/plain": [
       "dtype('float64')"
      ]
     },
     "execution_count": 12,
     "metadata": {},
     "output_type": "execute_result"
    }
   ],
   "source": [
    "x_tr.dtype"
   ]
  },
  {
   "cell_type": "markdown",
   "metadata": {},
   "source": [
    "<h4>PREPROCESS THE DATASET</h4>"
   ]
  },
  {
   "cell_type": "code",
   "execution_count": 3,
   "metadata": {},
   "outputs": [],
   "source": [
    "x_tr,x_ts=x_tr/255,x_ts/255"
   ]
  },
  {
   "cell_type": "code",
   "execution_count": 4,
   "metadata": {},
   "outputs": [],
   "source": [
    "y_tr,y_ts=to_categorical(y_tr),to_categorical(y_ts)"
   ]
  },
  {
   "cell_type": "markdown",
   "metadata": {},
   "source": [
    "<h4>NOW WE WILL DIFFERENT OUR FUNCTIONS FOR DIFFERENT OPERATIONS WE NEED TO BUILD A CNN</h4>"
   ]
  },
  {
   "cell_type": "markdown",
   "metadata": {},
   "source": [
    "<h4>WE WILL FIRST DEFINE FUNCTIONS FOR DEFINING WEIGHTS AND BIASES</h4>"
   ]
  },
  {
   "cell_type": "code",
   "execution_count": 13,
   "metadata": {},
   "outputs": [],
   "source": [
    "def weights(shape):\n",
    "    temp=tf.truncated_normal(shape=shape,stddev=0.1,dtype=tf.float64)\n",
    "    return tf.Variable(temp)"
   ]
  },
  {
   "cell_type": "code",
   "execution_count": 14,
   "metadata": {},
   "outputs": [],
   "source": [
    "def biases(shape):\n",
    "    temp=tf.zeros(shape=shape,dtype=tf.float64)\n",
    "    return tf.Variable(temp)"
   ]
  },
  {
   "cell_type": "markdown",
   "metadata": {},
   "source": [
    "<h2>NOW WE WILL DEFINE FUNCTIONS FOR CNN!!!!!!!!!!!!!!</h2>"
   ]
  },
  {
   "cell_type": "markdown",
   "metadata": {},
   "source": [
    "<br></br>\n",
    "<br></br>\n",
    "<h3>for non padded or valid padded images or inputs</h3>\n",
    "\n",
    "for an input image or a matrix of <strong>height,width,depth(no of channels) n<sub>H</sub>,n<sub>W</sub>,n<sub>C</sub></strong> respectively, convolved with filter of <strong>height,width,depth(no of channels) f<sub>H</sub>,f<sub>W</sub>,f<sub>C</sub> and stride S</strong>\n",
    "<br></br>\n",
    "the output dimesions are given as \n",
    "\n",
    "<strong>\n",
    "height = ceil(( n<sub>H</sub> - f<sub>H</sub> / S ) +1 )\n",
    "</strong>\n",
    "<br></br>\n",
    "<strong>\n",
    "width  = ceil(( n<sub>W</sub> - f<sub>W</sub> / S ) + 1 )\n",
    "</strong>\n",
    "<br></br>\n",
    "<strong>\n",
    "depth  = f<sub>C</sub>\n",
    "</strong>"
   ]
  },
  {
   "cell_type": "markdown",
   "metadata": {},
   "source": [
    "<br></br>\n",
    "<br></br>\n",
    "<h3>for padded images or inputs</h3>\n",
    "\n",
    "for an input image or a matrix of <strong>height,width,depth(no of channels) and padding  n<sub>H</sub>,n<sub>W</sub>,n<sub>C</sub>,P</strong> respectively, convolved with filter of <strong>height,width,depth(no of channels) f<sub>H</sub>,f<sub>W</sub>,f<sub>C</sub> and stride S</strong>\n",
    "<br></br>\n",
    "the output dimesions are given as \n",
    "\n",
    "<strong>\n",
    "height = ceil(( n<sub>H</sub> - f<sub>H</sub> + 2P / S ) +1 )\n",
    "</strong>\n",
    "<br></br>\n",
    "<strong>\n",
    "width  = ceil(( n<sub>W</sub> - f<sub>W</sub>  + 2P / S ) + 1 )\n",
    "</strong>\n",
    "<br></br>\n",
    "<strong>\n",
    "depth  = f<sub>C</sub>\n",
    "</strong>"
   ]
  },
  {
   "cell_type": "markdown",
   "metadata": {},
   "source": [
    "<h3>SAME GOES FOR POOLING</h3>"
   ]
  },
  {
   "cell_type": "code",
   "execution_count": 16,
   "metadata": {},
   "outputs": [],
   "source": [
    "def conv2d(x,w,b,stride=1,padding=False):\n",
    "    if(padding):\n",
    "        temp=tf.nn.conv2d(x,w,padding=\"SAME\",strides=[1,stride,stride,1])+b\n",
    "        return tf.nn.relu(temp)\n",
    "    else:\n",
    "        temp=tf.nn.conv2d(x,w,padding=\"VALID\",strides=[1,stride,stride,1])+b\n",
    "        return tf.nn.relu(temp)"
   ]
  },
  {
   "cell_type": "code",
   "execution_count": 17,
   "metadata": {},
   "outputs": [],
   "source": [
    "def maxpool2d(x,stride=2,padding=False):\n",
    "    if(padding):\n",
    "        return tf.nn.max_pool(x,w,padding=\"SAME\",strides=[1,stride,stride,1])\n",
    "    else:\n",
    "        return tf.nn.max_pool(x,w,padding=\"VALID\",strides=[1,stride,stride,1])"
   ]
  },
  {
   "cell_type": "code",
   "execution_count": 18,
   "metadata": {},
   "outputs": [],
   "source": [
    "def flatten(x):\n",
    "    return tf.reshape(x,shape=(x.shape[0],x.shape[1]*shape[2]*shape[3]))"
   ]
  },
  {
   "cell_type": "markdown",
   "metadata": {},
   "source": [
    "<h1>NOW FROM HERE WE WILL START MAKING OUR NETWORK</h1>\n",
    "<br></br>\n",
    "<h1>LET'S CODE IT TOGETHER</h1>"
   ]
  },
  {
   "cell_type": "code",
   "execution_count": null,
   "metadata": {},
   "outputs": [],
   "source": []
  }
 ],
 "metadata": {
  "kernelspec": {
   "display_name": "Python 3",
   "language": "python",
   "name": "python3"
  },
  "language_info": {
   "codemirror_mode": {
    "name": "ipython",
    "version": 3
   },
   "file_extension": ".py",
   "mimetype": "text/x-python",
   "name": "python",
   "nbconvert_exporter": "python",
   "pygments_lexer": "ipython3",
   "version": "3.6.6"
  }
 },
 "nbformat": 4,
 "nbformat_minor": 2
}
